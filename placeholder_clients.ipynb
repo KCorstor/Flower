{
  "cells": [
    {
      "cell_type": "markdown",
      "metadata": {},
      "source": [
        "# Flower Federated Learning with Placeholder Clients\n",
        "\n",
        "This notebook demonstrates federated learning using Flower's built-in placeholder clients instead of custom implementations. This approach is simpler and shows the core federated averaging concept without custom client code.\n"
      ]
    },
    {
      "cell_type": "code",
      "execution_count": 1,
      "metadata": {},
      "outputs": [
        {
          "name": "stdout",
          "output_type": "stream",
          "text": [
            "🔍 Checking and installing dependencies...\n",
            "📦 Installing flwr[simulation]...\n",
            "Requirement already satisfied: flwr[simulation] in /Users/kevincorstorphine/.local/share/virtualenvs/ai.llm_prompting-rP8wfVkF/lib/python3.11/site-packages (1.20.0)\n",
            "Requirement already satisfied: click<8.2.0 in /Users/kevincorstorphine/.local/share/virtualenvs/ai.llm_prompting-rP8wfVkF/lib/python3.11/site-packages (from flwr[simulation]) (8.1.8)\n",
            "Requirement already satisfied: cryptography<45.0.0,>=44.0.1 in /Users/kevincorstorphine/.local/share/virtualenvs/ai.llm_prompting-rP8wfVkF/lib/python3.11/site-packages (from flwr[simulation]) (44.0.3)\n",
            "Requirement already satisfied: grpcio!=1.65.0,<2.0.0,>=1.62.3 in /Users/kevincorstorphine/.local/share/virtualenvs/ai.llm_prompting-rP8wfVkF/lib/python3.11/site-packages (from flwr[simulation]) (1.74.0)\n",
            "Requirement already satisfied: grpcio-health-checking<2.0.0,>=1.62.3 in /Users/kevincorstorphine/.local/share/virtualenvs/ai.llm_prompting-rP8wfVkF/lib/python3.11/site-packages (from flwr[simulation]) (1.62.3)\n",
            "Requirement already satisfied: iterators<0.0.3,>=0.0.2 in /Users/kevincorstorphine/.local/share/virtualenvs/ai.llm_prompting-rP8wfVkF/lib/python3.11/site-packages (from flwr[simulation]) (0.0.2)\n",
            "Requirement already satisfied: numpy<3.0.0,>=1.26.0 in /Users/kevincorstorphine/.local/share/virtualenvs/ai.llm_prompting-rP8wfVkF/lib/python3.11/site-packages (from flwr[simulation]) (1.26.4)\n",
            "Requirement already satisfied: pathspec<0.13.0,>=0.12.1 in /Users/kevincorstorphine/.local/share/virtualenvs/ai.llm_prompting-rP8wfVkF/lib/python3.11/site-packages (from flwr[simulation]) (0.12.1)\n",
            "Requirement already satisfied: protobuf<5.0.0,>=4.21.6 in /Users/kevincorstorphine/.local/share/virtualenvs/ai.llm_prompting-rP8wfVkF/lib/python3.11/site-packages (from flwr[simulation]) (4.25.8)\n",
            "Requirement already satisfied: pycryptodome<4.0.0,>=3.18.0 in /Users/kevincorstorphine/.local/share/virtualenvs/ai.llm_prompting-rP8wfVkF/lib/python3.11/site-packages (from flwr[simulation]) (3.23.0)\n",
            "Requirement already satisfied: pyyaml<7.0.0,>=6.0.2 in /Users/kevincorstorphine/.local/share/virtualenvs/ai.llm_prompting-rP8wfVkF/lib/python3.11/site-packages (from flwr[simulation]) (6.0.2)\n",
            "Requirement already satisfied: ray==2.31.0 in /Users/kevincorstorphine/.local/share/virtualenvs/ai.llm_prompting-rP8wfVkF/lib/python3.11/site-packages (from flwr[simulation]) (2.31.0)\n",
            "Requirement already satisfied: requests<3.0.0,>=2.31.0 in /Users/kevincorstorphine/.local/share/virtualenvs/ai.llm_prompting-rP8wfVkF/lib/python3.11/site-packages (from flwr[simulation]) (2.32.3)\n",
            "Requirement already satisfied: rich<14.0.0,>=13.5.0 in /Users/kevincorstorphine/.local/share/virtualenvs/ai.llm_prompting-rP8wfVkF/lib/python3.11/site-packages (from flwr[simulation]) (13.9.4)\n",
            "Requirement already satisfied: tomli<3.0.0,>=2.0.1 in /Users/kevincorstorphine/.local/share/virtualenvs/ai.llm_prompting-rP8wfVkF/lib/python3.11/site-packages (from flwr[simulation]) (2.2.1)\n",
            "Requirement already satisfied: tomli-w<2.0.0,>=1.0.0 in /Users/kevincorstorphine/.local/share/virtualenvs/ai.llm_prompting-rP8wfVkF/lib/python3.11/site-packages (from flwr[simulation]) (1.2.0)\n",
            "Requirement already satisfied: typer<0.13.0,>=0.12.5 in /Users/kevincorstorphine/.local/share/virtualenvs/ai.llm_prompting-rP8wfVkF/lib/python3.11/site-packages (from flwr[simulation]) (0.12.5)\n",
            "Requirement already satisfied: filelock in /Users/kevincorstorphine/.local/share/virtualenvs/ai.llm_prompting-rP8wfVkF/lib/python3.11/site-packages (from ray==2.31.0->flwr[simulation]) (3.19.1)\n",
            "Requirement already satisfied: jsonschema in /Users/kevincorstorphine/.local/share/virtualenvs/ai.llm_prompting-rP8wfVkF/lib/python3.11/site-packages (from ray==2.31.0->flwr[simulation]) (4.25.1)\n",
            "Requirement already satisfied: msgpack<2.0.0,>=1.0.0 in /Users/kevincorstorphine/.local/share/virtualenvs/ai.llm_prompting-rP8wfVkF/lib/python3.11/site-packages (from ray==2.31.0->flwr[simulation]) (1.1.1)\n",
            "Requirement already satisfied: packaging in /Users/kevincorstorphine/.local/share/virtualenvs/ai.llm_prompting-rP8wfVkF/lib/python3.11/site-packages (from ray==2.31.0->flwr[simulation]) (24.2)\n",
            "Requirement already satisfied: aiosignal in /Users/kevincorstorphine/.local/share/virtualenvs/ai.llm_prompting-rP8wfVkF/lib/python3.11/site-packages (from ray==2.31.0->flwr[simulation]) (1.3.2)\n",
            "Requirement already satisfied: frozenlist in /Users/kevincorstorphine/.local/share/virtualenvs/ai.llm_prompting-rP8wfVkF/lib/python3.11/site-packages (from ray==2.31.0->flwr[simulation]) (1.6.0)\n",
            "Requirement already satisfied: cffi>=1.12 in /Users/kevincorstorphine/.local/share/virtualenvs/ai.llm_prompting-rP8wfVkF/lib/python3.11/site-packages (from cryptography<45.0.0,>=44.0.1->flwr[simulation]) (1.17.1)\n",
            "Requirement already satisfied: charset-normalizer<4,>=2 in /Users/kevincorstorphine/.local/share/virtualenvs/ai.llm_prompting-rP8wfVkF/lib/python3.11/site-packages (from requests<3.0.0,>=2.31.0->flwr[simulation]) (3.4.2)\n",
            "Requirement already satisfied: idna<4,>=2.5 in /Users/kevincorstorphine/.local/share/virtualenvs/ai.llm_prompting-rP8wfVkF/lib/python3.11/site-packages (from requests<3.0.0,>=2.31.0->flwr[simulation]) (3.10)\n",
            "Requirement already satisfied: urllib3<3,>=1.21.1 in /Users/kevincorstorphine/.local/share/virtualenvs/ai.llm_prompting-rP8wfVkF/lib/python3.11/site-packages (from requests<3.0.0,>=2.31.0->flwr[simulation]) (2.4.0)\n",
            "Requirement already satisfied: certifi>=2017.4.17 in /Users/kevincorstorphine/.local/share/virtualenvs/ai.llm_prompting-rP8wfVkF/lib/python3.11/site-packages (from requests<3.0.0,>=2.31.0->flwr[simulation]) (2025.4.26)\n",
            "Requirement already satisfied: markdown-it-py>=2.2.0 in /Users/kevincorstorphine/.local/share/virtualenvs/ai.llm_prompting-rP8wfVkF/lib/python3.11/site-packages (from rich<14.0.0,>=13.5.0->flwr[simulation]) (4.0.0)\n",
            "Requirement already satisfied: pygments<3.0.0,>=2.13.0 in /Users/kevincorstorphine/.local/share/virtualenvs/ai.llm_prompting-rP8wfVkF/lib/python3.11/site-packages (from rich<14.0.0,>=13.5.0->flwr[simulation]) (2.19.1)\n",
            "Requirement already satisfied: typing-extensions>=3.7.4.3 in /Users/kevincorstorphine/.local/share/virtualenvs/ai.llm_prompting-rP8wfVkF/lib/python3.11/site-packages (from typer<0.13.0,>=0.12.5->flwr[simulation]) (4.13.2)\n",
            "Requirement already satisfied: shellingham>=1.3.0 in /Users/kevincorstorphine/.local/share/virtualenvs/ai.llm_prompting-rP8wfVkF/lib/python3.11/site-packages (from typer<0.13.0,>=0.12.5->flwr[simulation]) (1.5.4)\n",
            "Requirement already satisfied: pycparser in /Users/kevincorstorphine/.local/share/virtualenvs/ai.llm_prompting-rP8wfVkF/lib/python3.11/site-packages (from cffi>=1.12->cryptography<45.0.0,>=44.0.1->flwr[simulation]) (2.22)\n",
            "Requirement already satisfied: mdurl~=0.1 in /Users/kevincorstorphine/.local/share/virtualenvs/ai.llm_prompting-rP8wfVkF/lib/python3.11/site-packages (from markdown-it-py>=2.2.0->rich<14.0.0,>=13.5.0->flwr[simulation]) (0.1.2)\n",
            "Requirement already satisfied: attrs>=22.2.0 in /Users/kevincorstorphine/.local/share/virtualenvs/ai.llm_prompting-rP8wfVkF/lib/python3.11/site-packages (from jsonschema->ray==2.31.0->flwr[simulation]) (25.3.0)\n",
            "Requirement already satisfied: jsonschema-specifications>=2023.03.6 in /Users/kevincorstorphine/.local/share/virtualenvs/ai.llm_prompting-rP8wfVkF/lib/python3.11/site-packages (from jsonschema->ray==2.31.0->flwr[simulation]) (2025.4.1)\n",
            "Requirement already satisfied: referencing>=0.28.4 in /Users/kevincorstorphine/.local/share/virtualenvs/ai.llm_prompting-rP8wfVkF/lib/python3.11/site-packages (from jsonschema->ray==2.31.0->flwr[simulation]) (0.36.2)\n",
            "Requirement already satisfied: rpds-py>=0.7.1 in /Users/kevincorstorphine/.local/share/virtualenvs/ai.llm_prompting-rP8wfVkF/lib/python3.11/site-packages (from jsonschema->ray==2.31.0->flwr[simulation]) (0.27.1)\n"
          ]
        },
        {
          "name": "stderr",
          "output_type": "stream",
          "text": [
            "\n",
            "\u001b[1m[\u001b[0m\u001b[34;49mnotice\u001b[0m\u001b[1;39;49m]\u001b[0m\u001b[39;49m A new release of pip is available: \u001b[0m\u001b[31;49m25.0.1\u001b[0m\u001b[39;49m -> \u001b[0m\u001b[32;49m25.2\u001b[0m\n",
            "\u001b[1m[\u001b[0m\u001b[34;49mnotice\u001b[0m\u001b[1;39;49m]\u001b[0m\u001b[39;49m To update, run: \u001b[0m\u001b[32;49mpip install --upgrade pip\u001b[0m\n"
          ]
        },
        {
          "name": "stdout",
          "output_type": "stream",
          "text": [
            "✅ flwr[simulation] installed successfully\n",
            "✅ torch is already installed\n",
            "✅ torchvision is already installed\n",
            "✅ numpy is already installed\n",
            "\n",
            "🎉 All dependencies are ready!\n"
          ]
        }
      ],
      "source": [
        "# Install required dependencies\n",
        "import subprocess\n",
        "import sys\n",
        "\n",
        "def install_package(package):\n",
        "    try:\n",
        "        __import__(package)\n",
        "        print(f\"✅ {package} is already installed\")\n",
        "    except ImportError:\n",
        "        print(f\"📦 Installing {package}...\")\n",
        "        subprocess.check_call([sys.executable, \"-m\", \"pip\", \"install\", package])\n",
        "        print(f\"✅ {package} installed successfully\")\n",
        "\n",
        "# List of required packages\n",
        "required_packages = [\n",
        "    \"flwr[simulation]\",\n",
        "    \"torch\",\n",
        "    \"torchvision\",\n",
        "    \"numpy\"\n",
        "]\n",
        "\n",
        "print(\"🔍 Checking and installing dependencies...\")\n",
        "for package in required_packages:\n",
        "    install_package(package)\n",
        "\n",
        "print(\"\\n🎉 All dependencies are ready!\")\n"
      ]
    },
    {
      "cell_type": "code",
      "execution_count": 2,
      "metadata": {},
      "outputs": [
        {
          "name": "stderr",
          "output_type": "stream",
          "text": [
            "/Users/kevincorstorphine/.local/share/virtualenvs/ai.llm_prompting-rP8wfVkF/lib/python3.11/site-packages/tqdm/auto.py:21: TqdmWarning: IProgress not found. Please update jupyter and ipywidgets. See https://ipywidgets.readthedocs.io/en/stable/user_install.html\n",
            "  from .autonotebook import tqdm as notebook_tqdm\n",
            "2025-09-05 12:00:24,035\tINFO util.py:154 -- Missing packages: ['ipywidgets']. Run `pip install -U ipywidgets`, then restart the notebook server for rich notebook output.\n"
          ]
        },
        {
          "name": "stdout",
          "output_type": "stream",
          "text": [
            "Training on cpu\n",
            "Flower 1.20.0 / PyTorch 2.2.2\n"
          ]
        }
      ],
      "source": [
        "# Import required libraries\n",
        "import numpy as np\n",
        "import torch\n",
        "import torch.nn as nn\n",
        "import torch.nn.functional as F\n",
        "from collections import OrderedDict\n",
        "from typing import List\n",
        "\n",
        "import flwr\n",
        "from flwr.server import ServerApp, ServerConfig, ServerAppComponents\n",
        "from flwr.server.strategy import FedAvg\n",
        "from flwr.simulation import run_simulation\n",
        "from flwr.common import ndarrays_to_parameters, Context\n",
        "\n",
        "DEVICE = \"cuda\" if torch.cuda.is_available() else \"cpu\"\n",
        "print(f\"Training on {DEVICE}\")\n",
        "print(f\"Flower {flwr.__version__} / PyTorch {torch.__version__}\")\n"
      ]
    },
    {
      "cell_type": "code",
      "execution_count": 3,
      "metadata": {},
      "outputs": [
        {
          "name": "stdout",
          "output_type": "stream",
          "text": [
            "Model created with 10 parameter tensors\n",
            "Total parameters: 62,006\n"
          ]
        }
      ],
      "source": [
        "# Define a simple neural network architecture\n",
        "class SimpleNet(nn.Module):\n",
        "    def __init__(self) -> None:\n",
        "        super(SimpleNet, self).__init__()\n",
        "        self.conv1 = nn.Conv2d(3, 6, 5)\n",
        "        self.pool = nn.MaxPool2d(2, 2)\n",
        "        self.conv2 = nn.Conv2d(6, 16, 5)\n",
        "        self.fc1 = nn.Linear(16 * 5 * 5, 120)\n",
        "        self.fc2 = nn.Linear(120, 84)\n",
        "        self.fc3 = nn.Linear(84, 10)\n",
        "\n",
        "    def forward(self, x: torch.Tensor) -> torch.Tensor:\n",
        "        x = self.pool(F.relu(self.conv1(x)))\n",
        "        x = self.pool(F.relu(self.conv2(x)))\n",
        "        x = x.view(-1, 16 * 5 * 5)\n",
        "        x = F.relu(self.fc1(x))\n",
        "        x = F.relu(self.fc2(x))\n",
        "        x = self.fc3(x)\n",
        "        return x\n",
        "\n",
        "# Utility functions for parameter handling\n",
        "def get_parameters(net) -> List[np.ndarray]:\n",
        "    \"\"\"Get model parameters as a list of NumPy arrays.\"\"\"\n",
        "    return [val.cpu().numpy() for _, val in net.state_dict().items()]\n",
        "\n",
        "def set_parameters(net, parameters: List[np.ndarray]):\n",
        "    \"\"\"Set model parameters from a list of NumPy arrays.\"\"\"\n",
        "    params_dict = zip(net.state_dict().keys(), parameters)\n",
        "    state_dict = OrderedDict({k: torch.Tensor(v) for k, v in params_dict})\n",
        "    net.load_state_dict(state_dict, strict=True)\n",
        "\n",
        "# Create initial model and get parameters\n",
        "net = SimpleNet().to(DEVICE)\n",
        "initial_parameters = get_parameters(net)\n",
        "print(f\"Model created with {len(initial_parameters)} parameter tensors\")\n",
        "print(f\"Total parameters: {sum(p.size for p in initial_parameters):,}\")\n"
      ]
    },
    {
      "cell_type": "code",
      "execution_count": 4,
      "metadata": {},
      "outputs": [
        {
          "name": "stdout",
          "output_type": "stream",
          "text": [
            "Federated Learning Configuration:\n",
            "- Number of clients: 10\n",
            "- Number of rounds: 5\n",
            "- Device: cpu\n"
          ]
        }
      ],
      "source": [
        "# Configuration\n",
        "NUM_CLIENTS = 10\n",
        "NUM_ROUNDS = 5\n",
        "\n",
        "print(f\"Federated Learning Configuration:\")\n",
        "print(f\"- Number of clients: {NUM_CLIENTS}\")\n",
        "print(f\"- Number of rounds: {NUM_ROUNDS}\")\n",
        "print(f\"- Device: {DEVICE}\")\n"
      ]
    },
    {
      "cell_type": "code",
      "execution_count": 5,
      "metadata": {},
      "outputs": [
        {
          "name": "stdout",
          "output_type": "stream",
          "text": [
            "✅ Server created with FedAvg strategy\n"
          ]
        }
      ],
      "source": [
        "# Server function that creates the federated learning strategy\n",
        "def server_fn(context: Context) -> ServerAppComponents:\n",
        "    \"\"\"Create server components with FedAvg strategy.\"\"\"\n",
        "    \n",
        "    # Create FedAvg strategy with federated averaging\n",
        "    strategy = FedAvg(\n",
        "        fraction_fit=1.0,  # Use 100% of available clients for training\n",
        "        fraction_evaluate=0.5,  # Use 50% of available clients for evaluation\n",
        "        min_fit_clients=NUM_CLIENTS,  # Require all clients for training\n",
        "        min_evaluate_clients=5,  # Require at least 5 clients for evaluation\n",
        "        min_available_clients=NUM_CLIENTS,  # Wait for all clients to be available\n",
        "        initial_parameters=ndarrays_to_parameters(initial_parameters),  # Start with initial model\n",
        "    )\n",
        "    \n",
        "    # Configure server for specified number of rounds\n",
        "    config = ServerConfig(num_rounds=NUM_ROUNDS)\n",
        "    \n",
        "    return ServerAppComponents(strategy=strategy, config=config)\n",
        "\n",
        "# Create the ServerApp\n",
        "server = ServerApp(server_fn=server_fn)\n",
        "print(\"✅ Server created with FedAvg strategy\")\n"
      ]
    },
    {
      "cell_type": "code",
      "execution_count": 6,
      "metadata": {},
      "outputs": [
        {
          "name": "stdout",
          "output_type": "stream",
          "text": [
            "Backend configuration: {'client_resources': {'num_cpus': 1, 'num_gpus': 0.0}}\n"
          ]
        }
      ],
      "source": [
        "# Configure client resources\n",
        "backend_config = {\"client_resources\": {\"num_cpus\": 1, \"num_gpus\": 0.0}}\n",
        "\n",
        "# If using GPU, allocate one GPU per client\n",
        "if DEVICE == \"cuda\":\n",
        "    backend_config = {\"client_resources\": {\"num_cpus\": 1, \"num_gpus\": 1.0}}\n",
        "\n",
        "print(f\"Backend configuration: {backend_config}\")\n"
      ]
    },
    {
      "cell_type": "code",
      "execution_count": null,
      "metadata": {},
      "outputs": [
        {
          "name": "stderr",
          "output_type": "stream",
          "text": [
            "\u001b[92mINFO \u001b[0m:      Starting Flower ServerApp, config: num_rounds=5, no round_timeout\n",
            "\u001b[91mERROR \u001b[0m:     An exception occurred !! Either `client_app_attr` or `client_app` must be provided\n",
            "\u001b[92mINFO \u001b[0m:      \n",
            "\u001b[92mINFO \u001b[0m:      [INIT]\n",
            "\u001b[92mINFO \u001b[0m:      Using initial global parameters provided by strategy\n",
            "\u001b[92mINFO \u001b[0m:      Starting evaluation of initial global parameters\n",
            "\u001b[91mERROR \u001b[0m:     Traceback (most recent call last):\n",
            "  File \"/Users/kevincorstorphine/.local/share/virtualenvs/ai.llm_prompting-rP8wfVkF/lib/python3.11/site-packages/flwr/simulation/run_simulation.py\", line 387, in _main_loop\n",
            "    vce.start_vce(\n",
            "  File \"/Users/kevincorstorphine/.local/share/virtualenvs/ai.llm_prompting-rP8wfVkF/lib/python3.11/site-packages/flwr/server/superlink/fleet/vce/vce_api.py\", line 390, in start_vce\n",
            "    raise ex\n",
            "  File \"/Users/kevincorstorphine/.local/share/virtualenvs/ai.llm_prompting-rP8wfVkF/lib/python3.11/site-packages/flwr/server/superlink/fleet/vce/vce_api.py\", line 359, in start_vce\n",
            "    client_app = app_fn()\n",
            "                 ^^^^^^^^\n",
            "  File \"/Users/kevincorstorphine/.local/share/virtualenvs/ai.llm_prompting-rP8wfVkF/lib/python3.11/site-packages/flwr/server/superlink/fleet/vce/vce_api.py\", line 353, in _load\n",
            "    raise ValueError(\"Either `client_app_attr` or `client_app` must be provided\")\n",
            "ValueError: Either `client_app_attr` or `client_app` must be provided\n",
            "\n",
            "\u001b[92mINFO \u001b[0m:      Evaluation returned no results (`None`)\n",
            "\u001b[92mINFO \u001b[0m:      \n",
            "\u001b[92mINFO \u001b[0m:      [ROUND 1]\n",
            "\u001b[92mINFO \u001b[0m:      configure_fit: strategy sampled 10 clients (out of 10)\n"
          ]
        },
        {
          "name": "stdout",
          "output_type": "stream",
          "text": [
            "🚀 Starting federated learning simulation...\n",
            "\n",
            "This will demonstrate:\n",
            "1. Server sends global model to all clients\n",
            "2. Each client trains on their local data\n",
            "3. Server aggregates (averages) all client models\n",
            "4. Process repeats for multiple rounds\n",
            "\n",
            "Note: Using placeholder clients means no actual training occurs,\n",
            "but the federated averaging mechanism is demonstrated.\n"
          ]
        }
      ],
      "source": [
        "# Run the federated learning simulation\n",
        "print(\"🚀 Starting federated learning simulation...\")\n",
        "print(\"\\nThis will demonstrate:\")\n",
        "print(\"1. Server sends global model to all clients\")\n",
        "print(\"2. Each client trains on their local data\")\n",
        "print(\"3. Server aggregates (averages) all client models\")\n",
        "print(\"4. Process repeats for multiple rounds\")\n",
        "print(\"\\nNote: Using placeholder clients means no actual training occurs,\")\n",
        "print(\"but the federated averaging mechanism is demonstrated.\")\n",
        "\n",
        "# Run simulation with placeholder clients\n",
        "run_simulation(\n",
        "    server_app=server,\n",
        "    client_app=None,  # No custom client app - uses placeholder clients\n",
        "    num_supernodes=NUM_CLIENTS,\n",
        "    backend_config=backend_config,\n",
        ")\n"
      ]
    },
    {
      "cell_type": "code",
      "execution_count": null,
      "metadata": {},
      "outputs": [],
      "source": [
        "# Demonstrate the federated averaging concept\n",
        "print(\"\\n📊 Federated Averaging Demonstration:\")\n",
        "print(\"\\nIn each round:\")\n",
        "print(\"1. Server has global model G_round\")\n",
        "print(\"2. All clients receive G_round\")\n",
        "print(\"3. Each client trains G_round on their local data → L_client\")\n",
        "print(\"4. Server computes: G_round+1 = average(L_client1, L_client2, ..., L_clientN)\")\n",
        "print(\"5. Next round starts with G_round+1\")\n",
        "\n",
        "print(\"\\n🔑 Key Points:\")\n",
        "print(\"- Each client starts each round with the SAME global model\")\n",
        "print(\"- The global model is the federated average of all clients from previous round\")\n",
        "print(\"- This ensures all clients benefit from the collective learning\")\n",
        "print(\"- No client's data is ever shared, only model parameters\")\n",
        "\n",
        "print(\"\\n✅ Federated averaging is working when you see:\")\n",
        "print(\"- 'aggregate_fit: received X results and 0 failures' in the logs\")\n",
        "print(\"- Multiple rounds completing successfully\")\n",
        "print(\"- All clients participating in each round\")\n"
      ]
    },
    {
      "cell_type": "code",
      "execution_count": null,
      "metadata": {},
      "outputs": [],
      "source": [
        "# Show how to access the final global model\n",
        "print(\"\\n🎯 Accessing the Final Global Model:\")\n",
        "print(\"\\nAfter the simulation completes, the server holds the final global model.\")\n",
        "print(\"This model represents the federated average of all client models\")\n",
        "print(\"after all training rounds.\")\n",
        "\n",
        "print(\"\\nTo use the final model in your own code:\")\n",
        "print(\"1. The server's strategy contains the final parameters\")\n",
        "print(\"2. You can extract them and load into your model\")\n",
        "print(\"3. This model has learned from all clients' data without seeing it directly\")\n",
        "\n",
        "# Example of how you would load the final model\n",
        "print(\"\\nExample code to load final model:\")\n",
        "print(\"\"\"\n",
        "# After simulation completes\n",
        "final_model = SimpleNet().to(DEVICE)\n",
        "# final_parameters = server.strategy.parameters  # Get final parameters\n",
        "# set_parameters(final_model, final_parameters)  # Load into model\n",
        "# Now final_model contains the federated average of all clients\n",
        "\"\"\")\n"
      ]
    }
  ],
  "metadata": {
    "kernelspec": {
      "display_name": "Python (deepatlas)",
      "language": "python",
      "name": "deepatlas-env"
    },
    "language_info": {
      "codemirror_mode": {
        "name": "ipython",
        "version": 3
      },
      "file_extension": ".py",
      "mimetype": "text/x-python",
      "name": "python",
      "nbconvert_exporter": "python",
      "pygments_lexer": "ipython3",
      "version": "3.11.4"
    }
  },
  "nbformat": 4,
  "nbformat_minor": 2
}
